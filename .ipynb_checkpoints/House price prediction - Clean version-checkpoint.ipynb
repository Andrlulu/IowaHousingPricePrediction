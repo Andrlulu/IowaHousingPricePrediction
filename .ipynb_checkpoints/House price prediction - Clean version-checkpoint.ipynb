{
 "cells": [
  {
   "cell_type": "markdown",
   "metadata": {},
   "source": [
    "## House price prediction - Best "
   ]
  },
  {
   "cell_type": "markdown",
   "metadata": {},
   "source": [
    "### Import packags:"
   ]
  },
  {
   "cell_type": "code",
   "execution_count": 75,
   "metadata": {},
   "outputs": [],
   "source": [
    "import pandas as pd\n",
    "import numpy as np\n",
    "import seaborn as sns\n",
    "from scipy import stats\n",
    "import matplotlib.pyplot as plt\n",
    "\n",
    "# display all columns of dataframe\n",
    "pd.set_option('display.max_columns', 500)\n",
    "\n",
    "# Suppress warning\n",
    "import warnings\n",
    "warnings.filterwarnings('ignore')"
   ]
  },
  {
   "cell_type": "markdown",
   "metadata": {},
   "source": [
    "### Loading data:"
   ]
  },
  {
   "cell_type": "code",
   "execution_count": 76,
   "metadata": {},
   "outputs": [],
   "source": [
    "train_df = pd.read_csv('./data/train.csv', index_col = 0)\n",
    "test_df = pd.read_csv('./data/test.csv', index_col = 0)\n",
    "\n",
    "full_data = [train_df, test_df]\n",
    "\n",
    "# Combining data:\n",
    "combine = pd.concat(full_data)\n",
    "combine_c = combine.copy()"
   ]
  },
  {
   "cell_type": "markdown",
   "metadata": {},
   "source": [
    "### Categorical data and numeric data:"
   ]
  },
  {
   "cell_type": "code",
   "execution_count": 77,
   "metadata": {},
   "outputs": [],
   "source": [
    "cat_features = combine.dtypes[combine.dtypes == 'object'].index\n",
    "num_features = combine.dtypes[combine.dtypes != 'object'].index\n",
    "\n",
    "cat_extra = ['MSSubClass', 'OverallCond', 'OverallQual']\n",
    "combine[cat_extra] = combine[cat_extra].astype('object')\n",
    "\n",
    "cat_features = combine.dtypes[combine.dtypes == 'object'].index\n",
    "num_features = combine.dtypes[combine.dtypes != 'object'].index"
   ]
  },
  {
   "cell_type": "markdown",
   "metadata": {},
   "source": [
    "### Data cleaning:\n",
    "#### Impute missing:"
   ]
  },
  {
   "cell_type": "code",
   "execution_count": 78,
   "metadata": {},
   "outputs": [],
   "source": [
    "# define function to impute missing value\n",
    "def impute_missing(dfName):\n",
    "    \n",
    "    # impute Continous numeric Variables   \n",
    "    dfName['GarageYrBlt'] = dfName['GarageYrBlt'].fillna(min(dfName['GarageYrBlt']))\n",
    "    dfName['LotFrontage'] = dfName.groupby(\"Neighborhood\")[\"LotFrontage\"].transform(lambda x: x.fillna(x.median()))\n",
    "    \n",
    "    # impute 0\n",
    "    for col in num_features:\n",
    "        dfName[col].fillna(0, inplace = True)\n",
    "    \n",
    "    dfName['Functional'] = dfName['Functional'].fillna('Typ')\n",
    "    \n",
    "   # impute categorical variable missing not at Random with the mode value  \n",
    "    for col in ('Electrical','MSZoning' , 'Exterior1st', 'Exterior2nd','KitchenQual', 'SaleType'):\n",
    "        dfName[col].fillna(dfName[col].mode()[0], inplace = True)\n",
    "  \n",
    "    # impute None\n",
    "    for col in cat_features:\n",
    "        dfName[col].fillna('None', inplace = True)\n",
    "        \n",
    "impute_missing(combine)"
   ]
  },
  {
   "cell_type": "markdown",
   "metadata": {},
   "source": [
    "### Dummifying:"
   ]
  },
  {
   "cell_type": "code",
   "execution_count": 79,
   "metadata": {},
   "outputs": [],
   "source": [
    "combine = pd.get_dummies(combine, drop_first=True)\n",
    "# Spliting data:\n",
    "train = combine[combine.SalePrice!=0]\n",
    "test = combine[combine.SalePrice==0]"
   ]
  },
  {
   "cell_type": "markdown",
   "metadata": {},
   "source": [
    "### Outliers:"
   ]
  },
  {
   "cell_type": "code",
   "execution_count": 80,
   "metadata": {},
   "outputs": [],
   "source": [
    "train = train.drop(train[(train.GrLivArea>4000) & (train.SalePrice<300000)].index)"
   ]
  },
  {
   "cell_type": "markdown",
   "metadata": {},
   "source": [
    "### Feature Engineering:"
   ]
  },
  {
   "cell_type": "code",
   "execution_count": 81,
   "metadata": {},
   "outputs": [
    {
     "name": "stdout",
     "output_type": "stream",
     "text": [
      "(1458, 276)\n",
      "(1459, 276)\n"
     ]
    }
   ],
   "source": [
    "# adding categorial col:\n",
    "inputcols = ['2ndFlrSF','BsmtFinSF1','BsmtFinSF2', 'BsmtUnfSF', 'TotalBsmtSF',\\\n",
    "             'GarageArea', 'WoodDeckSF', 'OpenPorchSF', 'EnclosedPorch', '3SsnPorch', 'ScreenPorch',\\\n",
    "            'LowQualFinSF', 'PoolArea', 'MasVnrArea', 'MiscVal']\n",
    "outputcols = ['has2ndflr', 'hasbsmt1', 'hasbsmt2', 'isbsmtcomplete', 'hasbsmt', 'hasgarage', 'haswooddeck', 'hasopenporch',\\\n",
    "             'hasenclosedporch', 'has3ssnporch', 'hasscreenporch', 'islowqualfin', 'haspool', 'hasmasvnr', 'hasmiscval']\n",
    "\n",
    "def add_categorical_col(df, inputcols, outputcols):\n",
    "    if len(inputcols) != len(outputcols):\n",
    "        raise \"Col len does not equal\"\n",
    "    for index,inputcol in enumerate(inputcols):\n",
    "        df[outputcols[index]] = df[inputcol].apply(lambda x: 0 if x == 0 else 1)\n",
    "\n",
    "add_categorical_col(train, inputcols,outputcols)\n",
    "add_categorical_col(test, inputcols,outputcols)\n",
    "\n",
    "print(train.shape)\n",
    "print(test.shape)"
   ]
  },
  {
   "cell_type": "code",
   "execution_count": 82,
   "metadata": {},
   "outputs": [],
   "source": [
    "#adding square foots\n",
    "train['TotalSF'] = train['TotalBsmtSF'] + train['1stFlrSF'] + train['2ndFlrSF']\n",
    "test['TotalSF'] = test['TotalBsmtSF'] + test['1stFlrSF'] + test['2ndFlrSF']\n",
    "\n",
    "train['Age_at_purchase'] = train['YrSold'] - train['YearBuilt']\n",
    "test['Age_at_purchase'] = test['YrSold'] - test['YearBuilt']"
   ]
  },
  {
   "cell_type": "code",
   "execution_count": 83,
   "metadata": {},
   "outputs": [],
   "source": [
    "#add ratio cols\n",
    "def add_col_ratio(df):\n",
    "    df['tota'] = df['LotArea'] + df['BsmtFinSF1'] + df['BsmtFinSF2'] + df['1stFlrSF'] + df['2ndFlrSF'] + df['GrLivArea'] + df['GarageArea']\n",
    "    df['totfb'] = df['BsmtFullBath'] + df['FullBath']\n",
    "    df['tothb'] = df['BsmtHalfBath'] + df['HalfBath']\n",
    "    df['totbabgr'] = df['FullBath'] + df['HalfBath']\n",
    "    df['totb'] = df['BsmtFullBath'] + df['BsmtHalfBath'] + df['BedroomAbvGr']\n",
    "    \n",
    "    df['tota_totb'] = df['totb']/df['tota']\n",
    "    df['tota_totfb'] = df['totfb']/df['tota']\n",
    "    df['tota_tothb'] = df['tothb']/df['tota']\n",
    "    df['tota_br'] = df['BedroomAbvGr']/df['tota']\n",
    "    df['tota_kc'] = df['KitchenAbvGr']/df['tota']\n",
    "    df['tota_totrs'] = df['TotRmsAbvGrd']/df['tota']\n",
    "    df['tota_gc'] = df['GarageCars']/df['tota']\n",
    "    df['totbath_br'] = df['BedroomAbvGr']/(df['totbabgr']+1)\n",
    "    df['totfb_br'] = df['totfb']/(df['BedroomAbvGr']+1)\n",
    "    df['tothb_br'] = df['tothb']/(df['BedroomAbvGr']+1)\n",
    "    df['totb_totrm'] = df['TotRmsAbvGrd']/(df['totb']+1)\n",
    "    df['brm_kitchen'] = df['KitchenAbvGr']/(df['BedroomAbvGr']+1)\n",
    "    df['totrm_garacar'] = df['GarageCars']/(df['TotRmsAbvGrd']+1)\n",
    "    \n",
    "add_col_ratio(train)\n",
    "add_col_ratio(test)"
   ]
  },
  {
   "cell_type": "markdown",
   "metadata": {},
   "source": [
    "### Modeling:"
   ]
  },
  {
   "cell_type": "code",
   "execution_count": 84,
   "metadata": {},
   "outputs": [],
   "source": [
    "from sklearn.model_selection import train_test_split, cross_val_score, GridSearchCV\n",
    "from sklearn.metrics import mean_squared_error\n",
    "from sklearn.linear_model import Lasso, Ridge, ElasticNet, HuberRegressor\n",
    "\n",
    "lasso = Lasso()\n",
    "ridge = Ridge()\n",
    "net = ElasticNet()\n",
    "\n",
    "X = train.drop('SalePrice', 1)\n",
    "y = np.log(train.SalePrice)\n",
    "test = test.drop('SalePrice', 1)"
   ]
  },
  {
   "cell_type": "code",
   "execution_count": 73,
   "metadata": {},
   "outputs": [
    {
     "name": "stdout",
     "output_type": "stream",
     "text": [
      "{'alpha': 11.1111111112}\n",
      "0.9171476689483293\n"
     ]
    },
    {
     "data": {
      "text/plain": [
       "0.9391953583602173"
      ]
     },
     "execution_count": 73,
     "metadata": {},
     "output_type": "execute_result"
    }
   ],
   "source": [
    "# Ridge:\n",
    "\n",
    "param_grid = [\n",
    "  {'alpha': list(np.linspace(1e-10,100,10))}\n",
    " ]\n",
    "\n",
    "cv_ridge = GridSearchCV(ridge, param_grid, cv=10, n_jobs=-1)\n",
    "cv_ridge.fit(X,y)\n",
    "print(cv_ridge.best_params_)\n",
    "print(cv_ridge.best_score_)\n",
    "alpha_ridge = cv_ridge.best_params_['alpha']\n",
    "\n",
    "cv_ridge.set_params()\n",
    "cv_ridge.fit(X,y)\n",
    "cv_ridge.score(X,y)"
   ]
  },
  {
   "cell_type": "markdown",
   "metadata": {},
   "source": [
    "### Writing data:"
   ]
  },
  {
   "cell_type": "code",
   "execution_count": 74,
   "metadata": {},
   "outputs": [],
   "source": [
    "x = pd.concat([test.reset_index(), pd.Series(np.exp(cv_ridge.predict(test))).rename('SalePrice')], axis=1)[['Id', 'SalePrice']].set_index('Id')\n",
    "x.to_csv('ridge_result.csv')"
   ]
  },
  {
   "cell_type": "code",
   "execution_count": null,
   "metadata": {},
   "outputs": [],
   "source": []
  }
 ],
 "metadata": {
  "kernelspec": {
   "display_name": "Python 3",
   "language": "python",
   "name": "python3"
  },
  "language_info": {
   "codemirror_mode": {
    "name": "ipython",
    "version": 3
   },
   "file_extension": ".py",
   "mimetype": "text/x-python",
   "name": "python",
   "nbconvert_exporter": "python",
   "pygments_lexer": "ipython3",
   "version": "3.7.0"
  }
 },
 "nbformat": 4,
 "nbformat_minor": 2
}
